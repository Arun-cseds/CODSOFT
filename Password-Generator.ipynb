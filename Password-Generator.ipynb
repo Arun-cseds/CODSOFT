{
 "cells": [
  {
   "cell_type": "code",
   "execution_count": 1,
   "id": "16f59c95",
   "metadata": {},
   "outputs": [
    {
     "name": "stdout",
     "output_type": "stream",
     "text": [
      "Password Generator\n",
      "Enter the desired length of the password: 5\n",
      "Generated Password: J4@>d\n"
     ]
    }
   ],
   "source": [
    "import random\n",
    "import string\n",
    "\n",
    "def generate_password(length):\n",
    "\n",
    "    characters = string.ascii_letters + string.digits + string.punctuation\n",
    "\n",
    "    password = ''.join(random.choice(characters) for _ in range(length))\n",
    "\n",
    "    return password\n",
    "\n",
    "\n",
    "print(\"Password Generator\")\n",
    "try:\n",
    "    length = int(input(\"Enter the desired length of the password: \"))\n",
    "\n",
    "    if length <= 0:\n",
    "        print(\"Password length should be a positive integer.\")\n",
    "    else:\n",
    "        password = generate_password(length)\n",
    "        print(\"Generated Password:\", password)\n",
    "except ValueError:\n",
    "    print(\"Invalid input. Please enter a valid integer for the password length.\")\n"
   ]
  },
  {
   "cell_type": "code",
   "execution_count": null,
   "id": "66676d35",
   "metadata": {},
   "outputs": [],
   "source": []
  }
 ],
 "metadata": {
  "kernelspec": {
   "display_name": "Python 3 (ipykernel)",
   "language": "python",
   "name": "python3"
  },
  "language_info": {
   "codemirror_mode": {
    "name": "ipython",
    "version": 3
   },
   "file_extension": ".py",
   "mimetype": "text/x-python",
   "name": "python",
   "nbconvert_exporter": "python",
   "pygments_lexer": "ipython3",
   "version": "3.11.3"
  }
 },
 "nbformat": 4,
 "nbformat_minor": 5
}
