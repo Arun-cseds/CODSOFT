{
 "cells": [
  {
   "cell_type": "code",
   "execution_count": null,
   "id": "76f7f83b",
   "metadata": {},
   "outputs": [
    {
     "name": "stdout",
     "output_type": "stream",
     "text": [
      "\n",
      "Rock, Paper, Scissors Game\n",
      "Choose one: rock, paper, scissors\n",
      "Your choice: paper\n",
      "You chose paper. Computer chose scissors.\n",
      "Computer wins!\n",
      "Your Score: 0, Computer Score: 1\n",
      "Play again? (yes/no): yes\n",
      "\n",
      "Rock, Paper, Scissors Game\n",
      "Choose one: rock, paper, scissors\n",
      "Your choice: paper\n",
      "You chose paper. Computer chose rock.\n",
      "You win!\n",
      "Your Score: 1, Computer Score: 1\n",
      "Play again? (yes/no): yes\n",
      "\n",
      "Rock, Paper, Scissors Game\n",
      "Choose one: rock, paper, scissors\n",
      "Your choice: rock\n",
      "You chose rock. Computer chose paper.\n",
      "Computer wins!\n",
      "Your Score: 1, Computer Score: 2\n"
     ]
    }
   ],
   "source": [
    "import random\n",
    "def determine_winner(user_choice, computer_choice):\n",
    "    if user_choice == computer_choice:\n",
    "        return \"it is tie!\"\n",
    "    elif (\n",
    "            (user_choice == 'rock' and computer_choice == 'scissors') or\n",
    "            (user_choice == 'scissors' and computer_choice == 'paper') or\n",
    "            (user_choice == 'paper' and computer_choice == 'rock')\n",
    "    ):\n",
    "        return \"You win!\"\n",
    "    else:\n",
    "        return \"Computer wins!\"\n",
    "\n",
    "user_score = 0\n",
    "computer_score = 0\n",
    "\n",
    "while True:\n",
    "    print(\"\\nRock, Paper, Scissors Game\")\n",
    "    print(\"Choose one: rock, paper, scissors\")\n",
    "\n",
    "    user_choice = input(\"Your choice: \").lower()\n",
    "\n",
    "\n",
    "    if user_choice not in ['rock', 'paper', 'scissors']:\n",
    "        print(\"Invalid choice. Please choose rock, paper, or scissors.\")\n",
    "        continue\n",
    "\n",
    "\n",
    "    choices = ['rock', 'paper', 'scissors']\n",
    "    computer_choice = random.choice(choices)\n",
    "\n",
    "\n",
    "    result = determine_winner(user_choice, computer_choice)\n",
    "    print(f\"You chose {user_choice}. Computer chose {computer_choice}.\")\n",
    "    print(result)\n",
    "\n",
    "\n",
    "    if result == \"You win!\":\n",
    "        user_score += 1\n",
    "    elif result == \"Computer wins!\":\n",
    "        computer_score += 1\n",
    "\n",
    "    print(f\"Your Score: {user_score}, Computer Score: {computer_score}\")\n",
    "\n",
    "    play_again = input(\"Play again? (yes/no): \").lower()\n",
    "    if play_again != 'yes':\n",
    "        break\n",
    "\n",
    "print(\"Thanks for playing!\")\n"
   ]
  },
  {
   "cell_type": "code",
   "execution_count": null,
   "id": "3c12c7da",
   "metadata": {},
   "outputs": [],
   "source": []
  }
 ],
 "metadata": {
  "kernelspec": {
   "display_name": "Python 3 (ipykernel)",
   "language": "python",
   "name": "python3"
  },
  "language_info": {
   "codemirror_mode": {
    "name": "ipython",
    "version": 3
   },
   "file_extension": ".py",
   "mimetype": "text/x-python",
   "name": "python",
   "nbconvert_exporter": "python",
   "pygments_lexer": "ipython3",
   "version": "3.11.3"
  }
 },
 "nbformat": 4,
 "nbformat_minor": 5
}
